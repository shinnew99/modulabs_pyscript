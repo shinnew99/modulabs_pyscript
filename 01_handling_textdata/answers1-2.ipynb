{
 "cells": [
  {
   "cell_type": "code",
   "execution_count": 5,
   "metadata": {},
   "outputs": [
    {
     "name": "stdout",
     "output_type": "stream",
     "text": [
      "Hi ,  my name is john . \n",
      "first, open the first chapter.\n",
      "HI, MY NAME IS JOHN.\n",
      "He is a ten year old boy.\n"
     ]
    }
   ],
   "source": [
    "import re\n",
    "\n",
    "def pad_punctuation(sentence, punc):\n",
    "    for p in punc:\n",
    "        sentence = sentence.replace(p, \" \" + p + \" \")\n",
    "\n",
    "    return sentence\n",
    "\n",
    "sentence1 = \"Hi, my name is john.\"\n",
    "print(pad_punctuation(sentence1, [\".\", \"?\", \"!\", \",\"]))\n",
    "\n",
    "\n",
    "# 노이즈 유형(2) 대소 문자: First, open the first chapter.\n",
    "sentence2 = \"First, open the first chapter.\"\n",
    "print(sentence2.lower())\n",
    "\n",
    "\n",
    "# Q. sentence의 모든 단어를 대문자로 바꿔보세요. \n",
    "# 힌트: upper() 함수를 사용해 보세요!\n",
    "print(sentence1.upper()) # sentence2도 됨\n",
    "\n",
    "\n",
    "\n",
    "# 노이즈 유형(3) 특수문자: He is a 10-year old boy.\n",
    "sentence3 = \"He is a ten-year-old boy.\"\n",
    "sentence3 = re.sub(\"([^a-zA-Z.,?!])\", \" \", sentence3)\n",
    "print(sentence3)"
   ]
  },
  {
   "cell_type": "markdown",
   "metadata": {},
   "source": [
    "### 답안은 아니지만 예시 text가 있는 버전"
   ]
  },
  {
   "cell_type": "code",
   "execution_count": null,
   "metadata": {},
   "outputs": [],
   "source": [
    "# From The Project Gutenberg\n",
    "    # (https://www.gutenberg.org/files/2397/2397-h/2397-h.htm)\n",
    "\n",
    "corpus = \"\"\"\n",
    "In the days that followed I learned to spell in this uncomprehending way a great many words, among them pin, hat, cup and a few verbs like sit, stand and walk. \n",
    "But my teacher had been with me several weeks before I understood that everything has a name.\n",
    "One day, we walked down the path to the well-house, attracted by the fragrance of the honeysuckle with which it was covered. \n",
    "Some one was drawing water and my teacher placed my hand under the spout. \n",
    "As the cool stream gushed over one hand she spelled into the other the word water, first slowly, then rapidly. \n",
    "I stood still, my whole attention fixed upon the motions of her fingers. \n",
    "Suddenly I felt a misty consciousness as of something forgotten—a thrill of returning thought; and somehow the mystery of language was revealed to me. \n",
    "I knew then that \"w-a-t-e-r\" meant the wonderful cool something that was flowing over my hand. \n",
    "That living word awakened my soul, gave it light, hope, joy, set it free! \n",
    "There were barriers still, it is true, but barriers that could in time be swept away.\"\"\" \n",
    "\n",
    "def cleaning_text(text, punc, regex):\n",
    "        # 노이즈 유형 (1) 문장부호 공백추가\n",
    "        for p in punc:\n",
    "            text = text.replace(p, \" \" + p + \" \")\n",
    "\n",
    "        # 노이즈 유형 (2), (3) 소문자화 및 특수문자 제거\n",
    "        text = re.sub(regex, \" \", text).lower()\n",
    "\n",
    "        return text\n",
    "\n",
    "print(cleaning_text(corpus, [\".\", \",\", \"!\", \"?\"], \"([^a-zA-Z0-9.,?!\\n])\"))"
   ]
  }
 ],
 "metadata": {
  "kernelspec": {
   "display_name": "Python 3",
   "language": "python",
   "name": "python3"
  },
  "language_info": {
   "codemirror_mode": {
    "name": "ipython",
    "version": 3
   },
   "file_extension": ".py",
   "mimetype": "text/x-python",
   "name": "python",
   "nbconvert_exporter": "python",
   "pygments_lexer": "ipython3",
   "version": "3.12.4"
  }
 },
 "nbformat": 4,
 "nbformat_minor": 2
}
